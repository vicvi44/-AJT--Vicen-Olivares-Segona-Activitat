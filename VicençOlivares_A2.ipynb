{
 "cells": [
  {
   "cell_type": "code",
   "execution_count": 5,
   "id": "e8b2fb41",
   "metadata": {},
   "outputs": [],
   "source": [
    "llista_radis=list(range(101))"
   ]
  },
  {
   "cell_type": "code",
   "execution_count": 6,
   "id": "4e409f35",
   "metadata": {},
   "outputs": [],
   "source": [
    "import math\n",
    "def calcula_perimetre(llista_radis):\n",
    "    return 2*math.pi*llista_radis()"
   ]
  },
  {
   "cell_type": "code",
   "execution_count": 7,
   "id": "b482e8fe",
   "metadata": {},
   "outputs": [],
   "source": [
    "llista_perimetres=[2*math.pi*r for r in llista_radis]\n",
    "llista_àrees=[math.pi*r**2 for r in llista_radis]\n",
    "llista_volums=[4/3*math.pi*r**3 for r in llista_radis]"
   ]
  },
  {
   "cell_type": "code",
   "execution_count": 8,
   "id": "b8cac101",
   "metadata": {},
   "outputs": [
    {
     "name": "stdout",
     "output_type": "stream",
     "text": [
      "[0, 1, 2, 3, 4, 5, 6, 7, 8, 9, 10, 11, 12, 13, 14, 15, 16, 17, 18, 19, 20, 21, 22, 23, 24, 25, 26, 27, 28, 29, 30, 31, 32, 33, 34, 35, 36, 37, 38, 39, 40, 41, 42, 43, 44, 45, 46, 47, 48, 49, 50, 51, 52, 53, 54, 55, 56, 57, 58, 59, 60, 61, 62, 63, 64, 65, 66, 67, 68, 69, 70, 71, 72, 73, 74, 75, 76, 77, 78, 79, 80, 81, 82, 83, 84, 85, 86, 87, 88, 89, 90, 91, 92, 93, 94, 95, 96, 97, 98, 99, 100]\n"
     ]
    }
   ],
   "source": [
    "print(llista_radis)"
   ]
  },
  {
   "cell_type": "code",
   "execution_count": 9,
   "id": "4486577a",
   "metadata": {},
   "outputs": [
    {
     "name": "stdout",
     "output_type": "stream",
     "text": [
      "[0.0, 6.283185307179586, 12.566370614359172, 18.84955592153876, 25.132741228718345, 31.41592653589793, 37.69911184307752, 43.982297150257104, 50.26548245743669, 56.548667764616276, 62.83185307179586, 69.11503837897544, 75.39822368615503, 81.68140899333463, 87.96459430051421, 94.24777960769379, 100.53096491487338, 106.81415022205297, 113.09733552923255, 119.38052083641213, 125.66370614359172, 131.94689145077132, 138.23007675795088, 144.51326206513048, 150.79644737231007, 157.07963267948966, 163.36281798666926, 169.64600329384882, 175.92918860102841, 182.212373908208, 188.49555921538757, 194.77874452256717, 201.06192982974676, 207.34511513692635, 213.62830044410595, 219.9114857512855, 226.1946710584651, 232.4778563656447, 238.76104167282426, 245.04422698000386, 251.32741228718345, 257.610597594363, 263.89378290154264, 270.1769682087222, 276.46015351590177, 282.7433388230814, 289.02652413026095, 295.3097094374406, 301.59289474462014, 307.8760800517997, 314.1592653589793, 320.4424506661589, 326.7256359733385, 333.0088212805181, 339.29200658769764, 345.57519189487726, 351.85837720205683, 358.1415625092364, 364.424747816416, 370.7079331235956, 376.99111843077515, 383.27430373795477, 389.55748904513433, 395.84067435231395, 402.1238596594935, 408.4070449666731, 414.6902302738527, 420.97341558103227, 427.2566008882119, 433.53978619539146, 439.822971502571, 446.10615680975064, 452.3893421169302, 458.6725274241098, 464.9557127312894, 471.23889803846896, 477.5220833456485, 483.80526865282815, 490.0884539600077, 496.37163926718733, 502.6548245743669, 508.93800988154646, 515.221195188726, 521.5043804959057, 527.7875658030853, 534.0707511102648, 540.3539364174444, 546.637121724624, 552.9203070318035, 559.2034923389832, 565.4866776461628, 571.7698629533423, 578.0530482605219, 584.3362335677015, 590.6194188748811, 596.9026041820607, 603.1857894892403, 609.4689747964198, 615.7521601035994, 622.0353454107791, 628.3185307179587]\n"
     ]
    }
   ],
   "source": [
    "print(llista_perimetres)"
   ]
  },
  {
   "cell_type": "code",
   "execution_count": 10,
   "id": "b578d51b",
   "metadata": {},
   "outputs": [],
   "source": [
    "perimetre_radis_parells=[p for r,p in zip(llista_radis, llista_perimetres) if r % 2 == 0]\n",
    "àrees_multiples_de3=[a for r,a in zip(llista_radis, llista_àrees) if r % 3 == 0]\n",
    "ultims_5_volums=[v for r,v in zip(llista_radis, llista_volums) if r > 95]"
   ]
  },
  {
   "cell_type": "code",
   "execution_count": 13,
   "id": "6d29c18b",
   "metadata": {},
   "outputs": [
    {
     "name": "stdout",
     "output_type": "stream",
     "text": [
      "[0.0, 12.566370614359172, 25.132741228718345, 37.69911184307752, 50.26548245743669, 62.83185307179586, 75.39822368615503, 87.96459430051421, 100.53096491487338, 113.09733552923255, 125.66370614359172, 138.23007675795088, 150.79644737231007, 163.36281798666926, 175.92918860102841, 188.49555921538757, 201.06192982974676, 213.62830044410595, 226.1946710584651, 238.76104167282426, 251.32741228718345, 263.89378290154264, 276.46015351590177, 289.02652413026095, 301.59289474462014, 314.1592653589793, 326.7256359733385, 339.29200658769764, 351.85837720205683, 364.424747816416, 376.99111843077515, 389.55748904513433, 402.1238596594935, 414.6902302738527, 427.2566008882119, 439.822971502571, 452.3893421169302, 464.9557127312894, 477.5220833456485, 490.0884539600077, 502.6548245743669, 515.221195188726, 527.7875658030853, 540.3539364174444, 552.9203070318035, 565.4866776461628, 578.0530482605219, 590.6194188748811, 603.1857894892403, 615.7521601035994, 628.3185307179587]\n",
      "[0.0, 28.274333882308138, 113.09733552923255, 254.46900494077323, 452.3893421169302, 706.8583470577034, 1017.8760197630929, 1385.4423602330987, 1809.5573684677208, 2290.221044466959, 2827.4333882308138, 3421.194399759285, 4071.5040790523717, 4778.362426110075, 5541.769440932395, 6361.725123519331, 7238.229473870883, 8171.282491987052, 9160.884177867836, 10207.034531513238, 11309.733552923255, 12468.981242097889, 13684.77759903714, 14957.122623741005, 16286.016316209487, 17671.458676442588, 19113.4497044403, 20611.989400202634, 22167.07776372958, 23778.714795021144, 25446.900494077323, 27171.63486089812, 28952.917895483533, 30790.74959783356]\n",
      "[3705973.490621892, 3822995.7225730093, 3942455.8304233123, 4064378.94691403, 4188790.2047863905]\n"
     ]
    }
   ],
   "source": [
    "\n",
    "print(perimetre_radis_parells)\n",
    "print(àrees_multiples_de3)\n",
    "print(ultims_5_volums)"
   ]
  },
  {
   "cell_type": "markdown",
   "id": "d86d2074",
   "metadata": {},
   "source": [
    "exercici 2"
   ]
  },
  {
   "cell_type": "code",
   "execution_count": null,
   "id": "5725dbd9",
   "metadata": {},
   "outputs": [],
   "source": []
  },
  {
   "cell_type": "code",
   "execution_count": 30,
   "id": "a10ab73b",
   "metadata": {},
   "outputs": [
    {
     "name": "stdout",
     "output_type": "stream",
     "text": [
      "['  anna  ', 'MARC ', 'joan ', ' Laia']\n",
      "['Anna', 'Marc', 'Joan', 'Laia']\n"
     ]
    }
   ],
   "source": [
    "noms=[\"  anna  \",\"MARC \",\"joan \",\" Laia\"]\n",
    "noms_nets=[nom.strip() for nom in noms]\n",
    "noms_nets2=[nom.capitalize() for nom in noms_nets]\n",
    "print(noms)\n",
    "print(noms_nets2)"
   ]
  },
  {
   "cell_type": "code",
   "execution_count": 26,
   "id": "54ce0167",
   "metadata": {},
   "outputs": [
    {
     "name": "stdout",
     "output_type": "stream",
     "text": [
      "[8, 5, 5, 5]\n"
     ]
    }
   ],
   "source": [
    "llargades_originals=[len(nom)for nom in noms]\n",
    "print(llargades_originals)"
   ]
  },
  {
   "cell_type": "code",
   "execution_count": 27,
   "id": "fbf26581",
   "metadata": {},
   "outputs": [
    {
     "name": "stdout",
     "output_type": "stream",
     "text": [
      "[4, 4, 4, 4]\n"
     ]
    }
   ],
   "source": [
    "llargades_finals=[len(nom)for nom in noms_nets]\n",
    "print(llargades_finals)"
   ]
  },
  {
   "cell_type": "code",
   "execution_count": null,
   "id": "cba52f4d",
   "metadata": {},
   "outputs": [],
   "source": []
  },
  {
   "cell_type": "markdown",
   "id": "5e198257",
   "metadata": {},
   "source": [
    "exercici 3"
   ]
  },
  {
   "cell_type": "code",
   "execution_count": 40,
   "id": "b120bdcd",
   "metadata": {},
   "outputs": [],
   "source": [
    "alumne={'nom':{\"Nom\":\"Pol\",\"cognom1\":\"Ballvé\", \"cognom2\":\"Torras\"}}"
   ]
  },
  {
   "cell_type": "code",
   "execution_count": 41,
   "id": "5604b89c",
   "metadata": {},
   "outputs": [
    {
     "name": "stdout",
     "output_type": "stream",
     "text": [
      "{'nom': {'Nom': 'Pol', 'cognom1': 'Ballvé', 'cognom2': 'Torras'}}\n"
     ]
    }
   ],
   "source": [
    "print(alumne)"
   ]
  },
  {
   "cell_type": "code",
   "execution_count": 42,
   "id": "5d512ce4",
   "metadata": {},
   "outputs": [],
   "source": [
    "alumne['curs']=\"1r Batxillerat\""
   ]
  },
  {
   "cell_type": "code",
   "execution_count": 53,
   "id": "b9c8fa7c",
   "metadata": {},
   "outputs": [],
   "source": [
    "alumne['notes']={\n",
    "    \"T1\":{\n",
    "        \"CAT\":[7,8,7,8,7],\n",
    "        \"CAST\":[9,9,9,8,7],\n",
    "        \"MAT\":[9,6,7,5,8],\n",
    "        \"ANG\":[8,7,8,8,9],\n",
    "        \"TECNO\":[8,7,8,9,7]\n",
    "        },\n",
    "       \"T2\":{\n",
    "           \"CAT\":[9,7,8,8,7],\n",
    "           \"CAST\":[5,7,8,8,8],\n",
    "           \"MAT\":[8,7,6,8,4],\n",
    "           \"ANG\":[9,3,6,8,7],\n",
    "           \"TECNO\":[6,7,8,6,8]\n",
    "           }, \n",
    "       \"T3\":{\n",
    "           \"CAT\":[9,2,6,8,5],\n",
    "           \"CAST\":[8,3,6,9,7],\n",
    "           \"MAT\":[7.5,7.5,7.5,8,7],\n",
    "           \"ANG\":[6,6,7,6,7],\n",
    "           \"TECNO\":[9,6,9,6,3]\n",
    "           }\n",
    "           }"
   ]
  },
  {
   "cell_type": "code",
   "execution_count": 54,
   "id": "f6a94b80",
   "metadata": {},
   "outputs": [
    {
     "name": "stdout",
     "output_type": "stream",
     "text": [
      "8\n"
     ]
    }
   ],
   "source": [
    "print(alumne['notes']['T2']['CAST'][-1])"
   ]
  },
  {
   "cell_type": "code",
   "execution_count": 55,
   "id": "b63e4471",
   "metadata": {},
   "outputs": [
    {
     "name": "stdout",
     "output_type": "stream",
     "text": [
      "5\n"
     ]
    }
   ],
   "source": [
    "print(len(alumne['notes']['T2']['CAT']))"
   ]
  },
  {
   "cell_type": "code",
   "execution_count": 56,
   "id": "0ed8ef76",
   "metadata": {},
   "outputs": [
    {
     "name": "stdout",
     "output_type": "stream",
     "text": [
      "{'Nom': 'Pol', 'cognom1': 'Ballvé', 'cognom2': 'Torras'}\n"
     ]
    }
   ],
   "source": [
    "print(alumne['nom'])"
   ]
  },
  {
   "cell_type": "code",
   "execution_count": 57,
   "id": "7540af36",
   "metadata": {},
   "outputs": [
    {
     "name": "stdout",
     "output_type": "stream",
     "text": [
      "7.5\n"
     ]
    }
   ],
   "source": [
    "suma=sum(alumne['notes']['T3']['MAT'])\n",
    "n_notes=len(alumne['notes']['T3']['MAT'])\n",
    "print(suma/n_notes)"
   ]
  },
  {
   "cell_type": "markdown",
   "id": "0cad2eaf",
   "metadata": {},
   "source": [
    "exercici 4"
   ]
  },
  {
   "cell_type": "code",
   "execution_count": 68,
   "id": "a563a5e6",
   "metadata": {},
   "outputs": [],
   "source": [
    "a=[1,2,3]\n",
    "b=[4,5,6]\n"
   ]
  },
  {
   "cell_type": "code",
   "execution_count": 73,
   "id": "1fee8f12",
   "metadata": {},
   "outputs": [
    {
     "name": "stdout",
     "output_type": "stream",
     "text": [
      "[0, 3, 3]\n"
     ]
    }
   ],
   "source": [
    "c=[a[0]+b[0], a[1]+b[1], a[2]+b[2]]\n",
    "print(c)"
   ]
  },
  {
   "cell_type": "code",
   "execution_count": 76,
   "id": "af2d71e8",
   "metadata": {},
   "outputs": [
    {
     "name": "stdout",
     "output_type": "stream",
     "text": [
      "[-1, -1, 3, 5, 2]\n"
     ]
    }
   ],
   "source": [
    "d=[a[0]*b[0], a[0]*b[1]+a[1]*b[0], a[0]*b[2]+a[1]*b[1]+a[2]*b[0], a[1]*b[2]+a[2]*b[1], a[2]*b[2]]\n",
    "print(d)"
   ]
  },
  {
   "cell_type": "code",
   "execution_count": 77,
   "id": "445c0cdc",
   "metadata": {},
   "outputs": [
    {
     "name": "stdout",
     "output_type": "stream",
     "text": [
      "[0, 3, 3]\n",
      "[-1, -1, 3, 5, 2]\n"
     ]
    }
   ],
   "source": [
    "a=[1,2,1]\n",
    "b=[-1,1,2]\n",
    "print(c)\n",
    "print(d)"
   ]
  },
  {
   "cell_type": "code",
   "execution_count": null,
   "id": "8b449cd4",
   "metadata": {},
   "outputs": [],
   "source": []
  }
 ],
 "metadata": {
  "kernelspec": {
   "display_name": "Python 3",
   "language": "python",
   "name": "python3"
  },
  "language_info": {
   "codemirror_mode": {
    "name": "ipython",
    "version": 3
   },
   "file_extension": ".py",
   "mimetype": "text/x-python",
   "name": "python",
   "nbconvert_exporter": "python",
   "pygments_lexer": "ipython3",
   "version": "3.13.7"
  }
 },
 "nbformat": 4,
 "nbformat_minor": 5
}
